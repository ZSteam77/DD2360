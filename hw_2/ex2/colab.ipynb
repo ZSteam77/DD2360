{
  "nbformat": 4,
  "nbformat_minor": 0,
  "metadata": {
    "colab": {
      "provenance": [],
      "gpuType": "T4"
    },
    "kernelspec": {
      "name": "python3",
      "display_name": "Python 3"
    },
    "language_info": {
      "name": "python"
    },
    "accelerator": "GPU"
  },
  "cells": [
    {
      "cell_type": "code",
      "source": [
        "%%shell\n",
        "nvcc lab3_ex2_template.cu -o matrix_multiplication"
      ],
      "metadata": {
        "colab": {
          "base_uri": "https://localhost:8080/"
        },
        "id": "r9x2Evdl2j2J",
        "outputId": "e1215a36-b549-49be-e6c1-eb4a0fa6cd59"
      },
      "execution_count": 27,
      "outputs": [
        {
          "output_type": "execute_result",
          "data": {
            "text/plain": []
          },
          "metadata": {},
          "execution_count": 27
        }
      ]
    },
    {
      "cell_type": "code",
      "source": [
        "%%shell\n",
        "./matrix_multiplication 256 256 256\n"
      ],
      "metadata": {
        "colab": {
          "base_uri": "https://localhost:8080/"
        },
        "id": "-B7b6H1p3H_b",
        "outputId": "bff1f10d-ad61-4a89-805b-243e3a20f029"
      },
      "execution_count": 31,
      "outputs": [
        {
          "output_type": "stream",
          "name": "stdout",
          "text": [
            "Input matrix dim (256 x 256) (256 x 256) (256 x 256)\n",
            "Copy to device time: 0.000302 seconds\n",
            "Kernel time: 0.000463 seconds\n",
            "Copy to host time: 0.000408 seconds\n",
            "graph: identical upper and lower x limits are separated\n",
            "graph: identical upper and lower y limits are separated\n"
          ]
        },
        {
          "output_type": "execute_result",
          "data": {
            "text/plain": []
          },
          "metadata": {},
          "execution_count": 31
        }
      ]
    },
    {
      "cell_type": "code",
      "source": [
        "# 运用 nsys profile 分析刚编译好的可执行文件\n",
        "%%shell\n",
        "nsys profile --stats=true ./matrix_multiplication 256 256 256\n"
      ],
      "metadata": {
        "colab": {
          "base_uri": "https://localhost:8080/"
        },
        "id": "s783Sa9VFbJV",
        "outputId": "3a07974d-4b4a-4055-d4fb-ee9886290a45"
      },
      "execution_count": 50,
      "outputs": [
        {
          "output_type": "stream",
          "name": "stdout",
          "text": [
            "Input matrix dim (256 x 256) (256 x 256) (256 x 256)\n",
            "Copy to device time: 0.000394 seconds\n",
            "Kernel time: 0.000466 seconds\n",
            "Copy to host time: 0.000510 seconds\n",
            "Generating '/tmp/nsys-report-481b.qdstrm'\n",
            "[1/8] [========================100%] report1.nsys-rep\n",
            "[2/8] [========================100%] report1.sqlite\n",
            "[3/8] Executing 'nvtx_sum' stats report\n",
            "SKIPPED: /content/report1.sqlite does not contain NV Tools Extension (NVTX) data.\n",
            "[4/8] Executing 'osrt_sum' stats report\n",
            "\n",
            " Time (%)  Total Time (ns)  Num Calls    Avg (ns)     Med (ns)    Min (ns)   Max (ns)    StdDev (ns)        Name     \n",
            " --------  ---------------  ---------  ------------  -----------  --------  -----------  ------------  --------------\n",
            "     55.3      200,697,354         13  15,438,258.0  3,146,004.0     2,875  100,210,692  29,069,436.3  poll          \n",
            "     43.4      157,513,124        513     307,043.1     17,664.0       636  114,299,505   5,050,471.4  ioctl         \n",
            "      0.7        2,361,958         31      76,192.2      8,691.0     7,557    1,684,547     299,411.6  mmap64        \n",
            "      0.2          547,527         49      11,174.0     10,507.0     4,223       25,987       3,500.7  open64        \n",
            "      0.1          313,279          5      62,655.8     44,745.0    25,641      144,682      49,113.4  sem_timedwait \n",
            "      0.1          233,546         39       5,988.4      4,588.0     1,473       17,249       3,863.9  fopen         \n",
            "      0.1          218,300          1     218,300.0    218,300.0   218,300      218,300           0.0  popen         \n",
            "      0.0          167,123         11      15,193.0      8,020.0     1,656       33,753      13,874.5  write         \n",
            "      0.0          160,740         15      10,716.0      3,799.0     1,387       70,886      17,709.6  mmap          \n",
            "      0.0           93,911          2      46,955.5     46,955.5    46,280       47,631         955.3  pthread_create\n",
            "      0.0           64,089         32       2,002.8      1,812.5     1,375        4,517         602.1  fclose        \n",
            "      0.0           54,806         17       3,223.9         80.0        70       53,454      12,944.0  fgets         \n",
            "      0.0           44,226         57         775.9        672.0       180        6,907         842.9  fcntl         \n",
            "      0.0           43,489          5       8,697.8      7,974.0     5,845       12,942       2,817.5  open          \n",
            "      0.0           24,120          2      12,060.0     12,060.0     7,698       16,422       6,168.8  socket        \n",
            "      0.0           20,978         14       1,498.4      1,394.5       503        3,315         786.4  read          \n",
            "      0.0           18,265          5       3,653.0      3,743.0     2,106        4,567         933.8  munmap        \n",
            "      0.0           15,220          5       3,044.0      3,049.0       104        7,060       2,932.2  fread         \n",
            "      0.0           11,206          1      11,206.0     11,206.0    11,206       11,206           0.0  connect       \n",
            "      0.0            5,570          1       5,570.0      5,570.0     5,570        5,570           0.0  pipe2         \n",
            "      0.0            3,535          8         441.9        432.5       328          549          97.0  dup           \n",
            "      0.0            1,753          1       1,753.0      1,753.0     1,753        1,753           0.0  bind          \n",
            "      0.0            1,007          1       1,007.0      1,007.0     1,007        1,007           0.0  listen        \n",
            "      0.0              868         10          86.8         50.0        43          414         115.1  fflush        \n",
            "\n",
            "[5/8] Executing 'cuda_api_sum' stats report\n",
            "\n",
            " Time (%)  Total Time (ns)  Num Calls    Avg (ns)    Med (ns)   Min (ns)   Max (ns)     StdDev (ns)            Name         \n",
            " --------  ---------------  ---------  ------------  ---------  --------  -----------  -------------  ----------------------\n",
            "     99.2      191,002,691          3  63,667,563.7    6,314.0     4,223  190,992,154  110,266,329.8  cudaMalloc            \n",
            "      0.5          894,796          3     298,265.3  193,427.0   193,141      508,228      181,833.1  cudaMemcpy            \n",
            "      0.2          414,371          1     414,371.0  414,371.0   414,371      414,371            0.0  cudaDeviceSynchronize \n",
            "      0.1          146,484          3      48,828.0   14,789.0     4,352      127,343       68,195.9  cudaFree              \n",
            "      0.0           47,782          1      47,782.0   47,782.0    47,782       47,782            0.0  cudaLaunchKernel      \n",
            "      0.0            2,040          1       2,040.0    2,040.0     2,040        2,040            0.0  cuModuleGetLoadingMode\n",
            "\n",
            "[6/8] Executing 'cuda_gpu_kern_sum' stats report\n",
            "\n",
            " Time (%)  Total Time (ns)  Instances  Avg (ns)   Med (ns)   Min (ns)  Max (ns)  StdDev (ns)                           Name                         \n",
            " --------  ---------------  ---------  ---------  ---------  --------  --------  -----------  ------------------------------------------------------\n",
            "    100.0          411,326          1  411,326.0  411,326.0   411,326   411,326          0.0  gemm(double *, double *, double *, int, int, int, int)\n",
            "\n",
            "[7/8] Executing 'cuda_gpu_mem_time_sum' stats report\n",
            "\n",
            " Time (%)  Total Time (ns)  Count  Avg (ns)  Med (ns)  Min (ns)  Max (ns)  StdDev (ns)      Operation     \n",
            " --------  ---------------  -----  --------  --------  --------  --------  -----------  ------------------\n",
            "     64.5           92,832      2  46,416.0  46,416.0    45,056    47,776      1,923.3  [CUDA memcpy HtoD]\n",
            "     35.5           51,168      1  51,168.0  51,168.0    51,168    51,168          0.0  [CUDA memcpy DtoH]\n",
            "\n",
            "[8/8] Executing 'cuda_gpu_mem_size_sum' stats report\n",
            "\n",
            " Total (MB)  Count  Avg (MB)  Med (MB)  Min (MB)  Max (MB)  StdDev (MB)      Operation     \n",
            " ----------  -----  --------  --------  --------  --------  -----------  ------------------\n",
            "      1.049      2     0.524     0.524     0.524     0.524        0.000  [CUDA memcpy HtoD]\n",
            "      0.524      1     0.524     0.524     0.524     0.524        0.000  [CUDA memcpy DtoH]\n",
            "\n",
            "Generated:\n",
            "    /content/report1.nsys-rep\n",
            "    /content/report1.sqlite\n"
          ]
        },
        {
          "output_type": "execute_result",
          "data": {
            "text/plain": []
          },
          "metadata": {},
          "execution_count": 50
        }
      ]
    },
    {
      "cell_type": "code",
      "source": [
        "%%shell\n",
        "nsys profile --stats=true ./matrix_multiplication 511 1023 4094"
      ],
      "metadata": {
        "colab": {
          "base_uri": "https://localhost:8080/"
        },
        "id": "EvRaXE5OIqs6",
        "outputId": "ab950758-6966-482b-8444-356a59b8e23e"
      },
      "execution_count": 51,
      "outputs": [
        {
          "output_type": "stream",
          "name": "stdout",
          "text": [
            "Input matrix dim (511 x 1023) (1023 x 4094) (511 x 4094)\n",
            "Copy to device time: 0.008179 seconds\n",
            "Kernel time: 0.047763 seconds\n",
            "Copy to host time: 0.011023 seconds\n",
            "Generating '/tmp/nsys-report-cd62.qdstrm'\n",
            "[1/8] [========================100%] report2.nsys-rep\n",
            "[2/8] [========================100%] report2.sqlite\n",
            "[3/8] Executing 'nvtx_sum' stats report\n",
            "SKIPPED: /content/report2.sqlite does not contain NV Tools Extension (NVTX) data.\n",
            "[4/8] Executing 'osrt_sum' stats report\n",
            "\n",
            " Time (%)  Total Time (ns)  Num Calls    Avg (ns)     Med (ns)    Min (ns)   Max (ns)    StdDev (ns)        Name     \n",
            " --------  ---------------  ---------  ------------  -----------  --------  -----------  ------------  --------------\n",
            "     57.7      200,348,056         13  15,411,388.9  2,407,247.0     3,315  100,161,897  28,880,120.5  poll          \n",
            "     41.2      142,977,900        527     271,305.3     13,615.0       439  109,445,716   4,768,986.2  ioctl         \n",
            "      0.6        2,029,106         31      65,455.0      7,474.0     5,653    1,513,743     269,294.5  mmap64        \n",
            "      0.1          504,410          6      84,068.3     90,416.0    38,338      103,856      23,193.6  sem_timedwait \n",
            "      0.1          500,894         49      10,222.3      8,873.0     3,408       38,291       5,423.8  open64        \n",
            "      0.1          220,980          1     220,980.0    220,980.0   220,980      220,980           0.0  popen         \n",
            "      0.1          209,551         39       5,373.1      3,523.0     1,697       19,727       4,718.0  fopen         \n",
            "      0.0          117,758         17       6,926.9      2,552.0     1,113       45,873      10,766.9  mmap          \n",
            "      0.0          114,036         11      10,366.9      7,049.0     1,200       40,854      10,646.6  write         \n",
            "      0.0           83,260          2      41,630.0     41,630.0    34,220       49,040      10,479.3  pthread_create\n",
            "      0.0           47,096         32       1,471.8      1,214.5       850        5,016         814.7  fclose        \n",
            "      0.0           44,608          5       8,921.6      8,693.0     3,234       15,627       4,440.6  open          \n",
            "      0.0           38,323         57         672.3        559.0       173        5,576         697.1  fcntl         \n",
            "      0.0           35,367         17       2,080.4         46.0        44       34,571       8,372.6  fgets         \n",
            "      0.0           35,261         10       3,526.1      2,852.0     1,848        7,517       1,719.6  munmap        \n",
            "      0.0           28,212          2      14,106.0     14,106.0     9,537       18,675       6,461.5  socket        \n",
            "      0.0           19,049         14       1,360.6      1,399.5       487        2,621         645.2  read          \n",
            "      0.0           15,388          5       3,077.6      3,066.0       160        7,204       2,958.1  fread         \n",
            "      0.0            9,308          1       9,308.0      9,308.0     9,308        9,308           0.0  connect       \n",
            "      0.0            7,628          1       7,628.0      7,628.0     7,628        7,628           0.0  pipe2         \n",
            "      0.0            3,233          8         404.1        390.5       321          578          83.4  dup           \n",
            "      0.0            1,939          1       1,939.0      1,939.0     1,939        1,939           0.0  bind          \n",
            "      0.0            1,569          1       1,569.0      1,569.0     1,569        1,569           0.0  listen        \n",
            "      0.0              718         10          71.8         54.0        39          258          66.2  fflush        \n",
            "\n",
            "[5/8] Executing 'cuda_api_sum' stats report\n",
            "\n",
            " Time (%)  Total Time (ns)  Num Calls    Avg (ns)      Med (ns)     Min (ns)    Max (ns)    StdDev (ns)            Name         \n",
            " --------  ---------------  ---------  ------------  ------------  ----------  -----------  ------------  ----------------------\n",
            "     70.7      165,661,600          3  55,220,533.3     141,321.0     110,129  165,410,150  95,427,008.5  cudaMalloc            \n",
            "     20.4       47,728,757          1  47,728,757.0  47,728,757.0  47,728,757   47,728,757           0.0  cudaDeviceSynchronize \n",
            "      8.2       19,193,625          3   6,397,875.0   7,243,574.0     928,489   11,021,562   5,099,405.4  cudaMemcpy            \n",
            "      0.8        1,863,742          3     621,247.3     244,147.0     177,066    1,442,529     712,041.2  cudaFree              \n",
            "      0.0           29,476          1      29,476.0      29,476.0      29,476       29,476           0.0  cudaLaunchKernel      \n",
            "      0.0            2,349          1       2,349.0       2,349.0       2,349        2,349           0.0  cuModuleGetLoadingMode\n",
            "\n",
            "[6/8] Executing 'cuda_gpu_kern_sum' stats report\n",
            "\n",
            " Time (%)  Total Time (ns)  Instances    Avg (ns)      Med (ns)     Min (ns)    Max (ns)   StdDev (ns)                           Name                         \n",
            " --------  ---------------  ---------  ------------  ------------  ----------  ----------  -----------  ------------------------------------------------------\n",
            "    100.0       47,666,474          1  47,666,474.0  47,666,474.0  47,666,474  47,666,474          0.0  gemm(double *, double *, double *, int, int, int, int)\n",
            "\n",
            "[7/8] Executing 'cuda_gpu_mem_time_sum' stats report\n",
            "\n",
            " Time (%)  Total Time (ns)  Count   Avg (ns)     Med (ns)    Min (ns)   Max (ns)   StdDev (ns)      Operation     \n",
            " --------  ---------------  -----  -----------  -----------  ---------  ---------  -----------  ------------------\n",
            "     55.6        9,756,602      1  9,756,602.0  9,756,602.0  9,756,602  9,756,602          0.0  [CUDA memcpy DtoH]\n",
            "     44.4        7,776,713      2  3,888,356.5  3,888,356.5    759,643  7,017,070  4,424,669.1  [CUDA memcpy HtoD]\n",
            "\n",
            "[8/8] Executing 'cuda_gpu_mem_size_sum' stats report\n",
            "\n",
            " Total (MB)  Count  Avg (MB)  Med (MB)  Min (MB)  Max (MB)  StdDev (MB)      Operation     \n",
            " ----------  -----  --------  --------  --------  --------  -----------  ------------------\n",
            "     37.687      2    18.844    18.844     4.182    33.505       20.735  [CUDA memcpy HtoD]\n",
            "     16.736      1    16.736    16.736    16.736    16.736        0.000  [CUDA memcpy DtoH]\n",
            "\n",
            "Generated:\n",
            "    /content/report2.nsys-rep\n",
            "    /content/report2.sqlite\n"
          ]
        },
        {
          "output_type": "execute_result",
          "data": {
            "text/plain": []
          },
          "metadata": {},
          "execution_count": 51
        }
      ]
    },
    {
      "cell_type": "code",
      "source": [
        "%%shell\n",
        "./matrix_multiplication 1024 1024 1024"
      ],
      "metadata": {
        "colab": {
          "base_uri": "https://localhost:8080/"
        },
        "id": "ughw7Stf3L8h",
        "outputId": "eba94b59-6e52-4af6-ae95-551fdecfb337"
      },
      "execution_count": 30,
      "outputs": [
        {
          "output_type": "stream",
          "name": "stdout",
          "text": [
            "Input matrix dim (1024 x 1024) (1024 x 1024) (1024 x 1024)\n",
            "Copy to device time: 0.003889 seconds\n",
            "Kernel time: 0.023979 seconds\n",
            "Copy to host time: 0.005516 seconds\n",
            "graph: identical upper and lower x limits are separated\n",
            "graph: identical upper and lower y limits are separated\n"
          ]
        },
        {
          "output_type": "execute_result",
          "data": {
            "text/plain": []
          },
          "metadata": {},
          "execution_count": 30
        }
      ]
    },
    {
      "cell_type": "code",
      "source": [
        "%%shell\n",
        "./matrix_multiplication 2048 1024 2048"
      ],
      "metadata": {
        "colab": {
          "base_uri": "https://localhost:8080/"
        },
        "id": "X0FtiDJG-z2s",
        "outputId": "162a042b-2c6c-4453-ba7f-ef3018b07700"
      },
      "execution_count": 33,
      "outputs": [
        {
          "output_type": "stream",
          "name": "stdout",
          "text": [
            "Input matrix dim (2048 x 1024) (1024 x 2048) (2048 x 2048)\n",
            "Copy to device time: 0.007622 seconds\n",
            "Kernel time: 0.095284 seconds\n",
            "Copy to host time: 0.025426 seconds\n",
            "graph: identical upper and lower x limits are separated\n",
            "graph: identical upper and lower y limits are separated\n"
          ]
        },
        {
          "output_type": "execute_result",
          "data": {
            "text/plain": []
          },
          "metadata": {},
          "execution_count": 33
        }
      ]
    },
    {
      "cell_type": "code",
      "source": [
        "%%shell\n",
        "nvcc lab3_ex2_template_float.cu -o matrix_multiplication_float"
      ],
      "metadata": {
        "colab": {
          "base_uri": "https://localhost:8080/"
        },
        "id": "KErDBtcd8V_d",
        "outputId": "9f740dd9-8671-47f9-a29f-96c721d81808"
      },
      "execution_count": 36,
      "outputs": [
        {
          "output_type": "execute_result",
          "data": {
            "text/plain": []
          },
          "metadata": {},
          "execution_count": 36
        }
      ]
    },
    {
      "cell_type": "code",
      "source": [
        "%%shell\n",
        "./matrix_multiplication_float 256 256 256"
      ],
      "metadata": {
        "colab": {
          "base_uri": "https://localhost:8080/"
        },
        "id": "3t3YOBRn_-XA",
        "outputId": "986a8e91-13ee-4a33-c313-dbe051bcbd4a"
      },
      "execution_count": 37,
      "outputs": [
        {
          "output_type": "stream",
          "name": "stdout",
          "text": [
            "Input matrix dim (256 x 256) (256 x 256) (256 x 256)\n",
            "Mismatch at index 2: 74.774544 != 74.774559\n",
            "Copy to device time: 0.000224 seconds\n",
            "Kernel time: 0.000188 seconds\n",
            "Copy to host time: 0.000275 seconds\n",
            "graph: identical upper and lower x limits are separated\n",
            "graph: identical upper and lower y limits are separated\n"
          ]
        },
        {
          "output_type": "execute_result",
          "data": {
            "text/plain": []
          },
          "metadata": {},
          "execution_count": 37
        }
      ]
    },
    {
      "cell_type": "code",
      "source": [
        "%%shell\n",
        "./matrix_multiplication_float 1024 1024 1024"
      ],
      "metadata": {
        "colab": {
          "base_uri": "https://localhost:8080/"
        },
        "id": "ePiDFrWiAQ58",
        "outputId": "53414be3-4f34-475c-e2b5-408e55eddf66"
      },
      "execution_count": 38,
      "outputs": [
        {
          "output_type": "stream",
          "name": "stdout",
          "text": [
            "Input matrix dim (1024 x 1024) (1024 x 1024) (1024 x 1024)\n",
            "Mismatch at index 3: 261.541840 != 261.541809\n",
            "Copy to device time: 0.002099 seconds\n",
            "Kernel time: 0.009197 seconds\n",
            "Copy to host time: 0.002926 seconds\n",
            "graph: identical upper and lower x limits are separated\n",
            "graph: identical upper and lower y limits are separated\n"
          ]
        },
        {
          "output_type": "execute_result",
          "data": {
            "text/plain": []
          },
          "metadata": {},
          "execution_count": 38
        }
      ]
    },
    {
      "cell_type": "code",
      "source": [
        "%%shell\n",
        "./matrix_multiplication_float 2048 1024 2048"
      ],
      "metadata": {
        "colab": {
          "base_uri": "https://localhost:8080/"
        },
        "id": "t-VH_fjsARVX",
        "outputId": "f42ed15d-96d5-4ecf-e5f5-68d3162229e1"
      },
      "execution_count": 39,
      "outputs": [
        {
          "output_type": "stream",
          "name": "stdout",
          "text": [
            "Input matrix dim (2048 x 1024) (1024 x 2048) (2048 x 2048)\n",
            "Mismatch at index 2: 267.235596 != 267.235565\n",
            "Copy to device time: 0.003814 seconds\n",
            "Kernel time: 0.037398 seconds\n",
            "Copy to host time: 0.011318 seconds\n",
            "graph: identical upper and lower x limits are separated\n",
            "graph: identical upper and lower y limits are separated\n"
          ]
        },
        {
          "output_type": "execute_result",
          "data": {
            "text/plain": []
          },
          "metadata": {},
          "execution_count": 39
        }
      ]
    },
    {
      "cell_type": "code",
      "source": [
        "import matplotlib.pyplot as plt\n",
        "import numpy as np\n",
        "\n",
        "# 输入矩阵的维度\n",
        "matrix_dimensions = ['256x256', '1024x1024', '2048x1024']\n",
        "\n",
        "# 时间数据\n",
        "copy_to_device_time = [0.000330, 0.003889, 0.007622]\n",
        "kernel_time = [0.000466, 0.023979, 0.095284]\n",
        "copy_to_host_time = [0.000469, 0.005516, 0.025426]\n",
        "\n",
        "# 绘制stacked bar chart\n",
        "fig, ax = plt.subplots(figsize=(8, 6))\n",
        "bar_width = 0.35\n",
        "bar_positions = np.arange(len(matrix_dimensions))\n",
        "\n",
        "ax.bar(bar_positions, copy_to_device_time, bar_width, label='Copy to Device')\n",
        "ax.bar(bar_positions, kernel_time, bar_width, bottom=copy_to_device_time, label='Kernel')\n",
        "ax.bar(bar_positions, copy_to_host_time, bar_width, bottom=np.array(copy_to_device_time) + np.array(kernel_time), label='Copy to Host')\n",
        "\n",
        "# 添加标签和标题\n",
        "ax.set_xlabel('Matrix Dimensions')\n",
        "ax.set_ylabel('Time (seconds)')\n",
        "ax.set_title('Stacked Bar Chart of Matrix Multiplication Timings (double)')\n",
        "ax.set_xticks(bar_positions)\n",
        "ax.set_xticklabels(matrix_dimensions)\n",
        "ax.legend()\n",
        "\n",
        "# 显示图形\n",
        "plt.show()\n"
      ],
      "metadata": {
        "colab": {
          "base_uri": "https://localhost:8080/",
          "height": 564
        },
        "id": "Bl1GiesdAerF",
        "outputId": "b6e02e65-b9da-4ea3-da67-12a1e6468b59"
      },
      "execution_count": 43,
      "outputs": [
        {
          "output_type": "display_data",
          "data": {
            "text/plain": [
              "<Figure size 800x600 with 1 Axes>"
            ],
            "image/png": "[encoded data removed]"
          },
          "metadata": {}
        }
      ]
    },
    {
      "cell_type": "code",
      "source": [
        "import matplotlib.pyplot as plt\n",
        "import numpy as np\n",
        "\n",
        "# 输入矩阵的维度\n",
        "matrix_dimensions = ['256x256', '1024x1024', '2048x1024']\n",
        "\n",
        "# 时间数据\n",
        "copy_to_device_time = [0.000224, 0.002099, 0.003814]\n",
        "kernel_time = [0.000188, 0.009197, 0.037398]\n",
        "copy_to_host_time = [0.000275, 0.002926, 0.011318]\n",
        "\n",
        "# 绘制stacked bar chart\n",
        "fig, ax = plt.subplots(figsize=(8, 6))\n",
        "bar_width = 0.35\n",
        "bar_positions = np.arange(len(matrix_dimensions))\n",
        "\n",
        "ax.bar(bar_positions, copy_to_device_time, bar_width, label='Copy to Device')\n",
        "ax.bar(bar_positions, kernel_time, bar_width, bottom=copy_to_device_time, label='Kernel')\n",
        "ax.bar(bar_positions, copy_to_host_time, bar_width, bottom=np.array(copy_to_device_time) + np.array(kernel_time), label='Copy to Host')\n",
        "\n",
        "# 添加标签和标题\n",
        "ax.set_xlabel('Matrix Dimensions')\n",
        "ax.set_ylabel('Time (seconds)')\n",
        "ax.set_title('Stacked Bar Chart of Matrix Multiplication Timings (float)')\n",
        "ax.set_xticks(bar_positions)\n",
        "ax.set_xticklabels(matrix_dimensions)\n",
        "ax.legend()\n",
        "\n",
        "# 显示图形\n",
        "plt.show()\n"
      ],
      "metadata": {
        "colab": {
          "base_uri": "https://localhost:8080/",
          "height": 564
        },
        "id": "eTh2ERFXAe3I",
        "outputId": "a6b052bc-b0d4-40ae-c087-33fc9c694ea3"
      },
      "execution_count": 42,
      "outputs": [
        {
          "output_type": "display_data",
          "data": {
            "text/plain": [
              "<Figure size 800x600 with 1 Axes>"
            ],
            "image/png": "[encoded data removed]"
          },
          "metadata": {}
        }
      ]
    },
    {
      "cell_type": "code",
      "source": [],
      "metadata": {
        "id": "7WcDD3KXB-yb"
      },
      "execution_count": null,
      "outputs": []
    }
  ]
}